{
 "cells": [
  {
   "cell_type": "markdown",
   "id": "77052971",
   "metadata": {},
   "source": [
    "# Imports"
   ]
  },
  {
   "cell_type": "code",
   "execution_count": 1,
   "id": "5fe1b4c6",
   "metadata": {},
   "outputs": [
    {
     "name": "stderr",
     "output_type": "stream",
     "text": [
      "C:\\Users\\Danel\\anaconda3\\envs\\quant\\lib\\site-packages\\numpy\\core\\__init__.py:27: UserWarning: loaded more than 1 DLL from .libs:\n",
      "C:\\Users\\Danel\\anaconda3\\envs\\quant\\lib\\site-packages\\numpy\\.libs\\libopenblas.GK7GX5KEQ4F6UYO3P26ULGBQYHGQO7J4.gfortran-win_amd64.dll\n",
      "C:\\Users\\Danel\\anaconda3\\envs\\quant\\lib\\site-packages\\numpy\\.libs\\libopenblas.WCDJNK7YVMPZQ2ME2ZZHJJRJ3JIKNDB7.gfortran-win_amd64.dll\n",
      "  warnings.warn(\"loaded more than 1 DLL from .libs:\\n%s\" %\n"
     ]
    },
    {
     "name": "stdout",
     "output_type": "stream",
     "text": [
      "Requirement already satisfied: bs4 in c:\\users\\danel\\anaconda3\\envs\\quant\\lib\\site-packages (0.0.1)\n",
      "Requirement already satisfied: beautifulsoup4 in c:\\users\\danel\\anaconda3\\envs\\quant\\lib\\site-packages (from bs4) (4.9.3)\n",
      "Requirement already satisfied: soupsieve>1.2 in c:\\users\\danel\\anaconda3\\envs\\quant\\lib\\site-packages (from beautifulsoup4->bs4) (2.2.1)\n"
     ]
    },
    {
     "name": "stderr",
     "output_type": "stream",
     "text": [
      "WARNING: Error parsing requirements for numpy: [Errno 2] No such file or directory: 'c:\\\\users\\\\danel\\\\anaconda3\\\\envs\\\\quant\\\\lib\\\\site-packages\\\\numpy-1.20.3.dist-info\\\\METADATA'\n",
      "WARNING: Error parsing requirements for numpy: [Errno 2] No such file or directory: 'c:\\\\users\\\\danel\\\\anaconda3\\\\envs\\\\quant\\\\lib\\\\site-packages\\\\numpy-1.20.3.dist-info\\\\METADATA'\n"
     ]
    },
    {
     "name": "stdout",
     "output_type": "stream",
     "text": [
      "Requirement already satisfied: lxml in c:\\users\\danel\\anaconda3\\envs\\quant\\lib\\site-packages (4.6.3)\n"
     ]
    }
   ],
   "source": [
    "import pandas as pd\n",
    "import numpy as np\n",
    "import matplotlib.pyplot as plt\n",
    "!pip install bs4 \n",
    "from bs4 import BeautifulSoup\n",
    "!pip install lxml\n",
    "import requests\n",
    "from datetime import datetime\n",
    "import seaborn as sb\n",
    "from functools import reduce\n",
    "from time import sleep\n",
    "import ast\n",
    "import urllib\n",
    "import requests\n",
    "from bs4 import Comment"
   ]
  },
  {
   "cell_type": "markdown",
   "id": "05f05324",
   "metadata": {},
   "source": [
    "# Gathering Data\n",
    "\n",
    "Scrape current baseball statistics from baseball-reference.com"
   ]
  },
  {
   "cell_type": "code",
   "execution_count": 2,
   "id": "e0210b58",
   "metadata": {
    "scrolled": true
   },
   "outputs": [],
   "source": [
    "def Web_Scrape_Team_Data(year, teams):\n",
    "\n",
    "    streak_mapping = {'+': 1, '++': 2, '+++': 3, '++++': 4, '+++++': 5, '++++++':6, '+++++++': 7, '++++++++': 8, '+++++++++': 9, '++++++++++': 10, '+++++++++++': 11, '++++++++++++': 12, '+++++++++++++':13, '++++++++++++++':14, '+++++++++++++++': 15,\n",
    "                      '-': -1, '--': -2, '---': -3, '----': -4, '-----': -5, '------':-6, '-------': -7, '--------': -8, '---------': -9, '----------': -10, '-----------': -11, '------------': -12, '-------------':-13, '--------------':-14, '---------------': -15}\n",
    "\n",
    "    teamsData = {}\n",
    "\n",
    "    for index, team in enumerate(teams):\n",
    "        ## Collect schedule information for each team\n",
    "        baseball_schedule_url = 'https://www.baseball-reference.com/teams/' + team + '/' + year + '-schedule-scores.shtml'\n",
    "        dfs = pd.read_html(baseball_schedule_url)\n",
    "        scheduleDF = pd.concat(dfs)\n",
    "        scheduleDF.drop(['Unnamed: 2', 'Unnamed: 4', 'W-L', 'D/N', 'Orig. Scheduled'], axis = 1, inplace = True)\n",
    "        scheduleDF = scheduleDF[scheduleDF.Opp != 'Opp'] # delete rows where the column statistics are repeated on the website\n",
    "        scheduleDF.to_csv('1.csv')\n",
    "\n",
    "        ## Collect batting data for each game every team has played\n",
    "        baseball_batting_data_url = 'https://www.baseball-reference.com/teams/tgl.cgi?team=' + team + '&t=b&year=2021'\n",
    "        dfs = pd.read_html(baseball_batting_data_url)\n",
    "        battingDF = pd.concat(dfs)\n",
    "        battingDF.drop(['Opp', 'R', 'Date', 'Rk', 'Unnamed: 3', 'Gtm', 'Rslt'], axis = 1, inplace = True)\n",
    "        battingDF = battingDF[battingDF.PA != 'PA'] # delete rows where the column names are repeated on the website\n",
    "        battingDF.to_csv('2.csv')\n",
    "\n",
    "        ## Collect pitching data for each game every team has played\n",
    "        baseball_pitching_data_url = 'https://www.baseball-reference.com/teams/tgl.cgi?team=' + team + '&t=p&year=2021'\n",
    "        dfs = pd.read_html(baseball_pitching_data_url)\n",
    "        PitchingDF = pd.concat(dfs)\n",
    "        PitchingDF.drop(['Opp', 'R', 'Date', 'Avg', '0', '1', '2', '3', '4', '5', '6', '7', '8', '9', \n",
    "                         'Other Game Totals', 'Rk', 'Gtm', 'Unnamed: 3', 'Rslt', '#', 'Umpire'], axis = 1, inplace = True)\n",
    "        PitchingDF = PitchingDF[PitchingDF.ERA != 'ERA'] # delete rows where the column statistics are repeated on the website\n",
    "        #PitchingDF.drop_duplicates(keep = 'first', inplace = True)\n",
    "        PitchingDF.to_csv('3.csv')\n",
    "\n",
    "        # Combining all dataframes into one big dataframe - including schedule, batting, and pitching stats\n",
    "        CombDF1 = scheduleDF.merge(battingDF, how = 'right', left_index = True, right_index=True)\n",
    "        #CombDF1 = scheduleDF.merge(battingDF, how = 'right', left_index = True, right_index=True)\n",
    "        teamsData[team] = CombDF1.merge(PitchingDF, how = 'left', left_index = True, right_index=True, suffixes=('_batting', '_pitching'))\n",
    "        teamsData[team].drop_duplicates(subset = 'Gm#', keep = 'first', inplace = True) # delete duplicate games (if any)\n",
    "\n",
    "        # Change Streak Column to numerical values based on streak_mapping dictionary\n",
    "        teamsData[team]['Streak'] = teamsData[team]['Streak'].map(streak_mapping)\n",
    "\n",
    "        # Extract Starting Pitcher Info for Home Team\n",
    "        teamsData[team]['Pitcher'] = teamsData[team]['Pitchers Used (Rest-GameScore-Dec)'].str.extract(r'^([a-zA-Z]{1}[.]{1}[^\\d\\( ]*)', expand=False)\n",
    "        #teamsData[team]['Starting_Pitcher_Opp'] = teamsData[team]['Opp. Starter (GmeSc)'].str.extract(r'^([a-zA-Z]{1}[.]{1}[^\\d\\( ]*)', expand=False)\n",
    "\n",
    "        # Extract Last Name From Pitchers Name Column - store this to merge dataframes later\n",
    "        teamsData[team]['Pitcher Last Name'] = teamsData[team]['Pitcher'].str[2:]\n",
    "        teamsData[team]['Pitcher First Initial'] = teamsData[team]['Pitcher'].str[:1]\n",
    "        #teamsData[team]['Starting_Pitcher_Last_Name_Opp'] = teamsData[team]['Starting_Pitcher_Opp'].str[2:]\n",
    "\n",
    "        ## change columns to correct type - ADD TO THIS LATER\n",
    "        teamsData[team][['R', 'RA', 'cLI', 'PA', 'AB_batting', 'H_batting', '2B_batting', '3B_batting', 'HR_batting', 'RBI',\n",
    "                        'BB_batting', 'HBP_batting', 'IBB_batting', 'SO_batting', 'SH_batting', 'ROE_batting', 'GDP_batting',\n",
    "                        'SB_batting', 'CS_batting', 'BA', 'OBP', 'SLG', 'OPS', 'LOB', '#', 'IP', 'H_pitching', 'ER', 'UER', \n",
    "                        'BB_pitching', 'SO_pitching', 'HR_pitching', 'HBP_pitching', 'ERA', 'BF', 'Pit', 'Str', 'SB_pitching',\n",
    "                        'CS_pitching', 'AB_pitching', '2B_pitching', '3B_pitching', 'ROE_pitching', 'GDP_pitching', 'Gm#']] = teamsData[team][['R', 'RA', 'cLI', 'PA', 'AB_batting', 'H_batting', '2B_batting', '3B_batting', 'HR_batting', 'RBI',\n",
    "                                                                                                                                        'BB_batting', 'HBP_batting', 'IBB_batting', 'SO_batting', 'SH_batting', 'ROE_batting', 'GDP_batting',\n",
    "                                                                                                                                        'SB_batting', 'CS_batting', 'BA', 'OBP', 'SLG', 'OPS', 'LOB', '#', 'IP', 'H_pitching', 'ER', 'UER', \n",
    "                                                                                                                                        'BB_pitching', 'SO_pitching', 'HR_pitching', 'HBP_pitching', 'ERA', 'BF', 'Pit', 'Str', 'SB_pitching',\n",
    "                                                                                                                                        'CS_pitching', 'AB_pitching', '2B_pitching', '3B_pitching', 'ROE_pitching', 'GDP_pitching', 'Gm#']].apply(pd.to_numeric)\n",
    "      ##################################### DO NOT TOUCH THE ROWS ABOVE ########################################################################################################################################################\n",
    "\n",
    "    return teamsData # return data for all teams given a year"
   ]
  },
  {
   "cell_type": "markdown",
   "id": "b4d4d6e3",
   "metadata": {},
   "source": [
    "## Creating new attributes\n"
   ]
  },
  {
   "cell_type": "code",
   "execution_count": 3,
   "id": "86935845",
   "metadata": {},
   "outputs": [],
   "source": [
    "def Create_New_Attributes(teamsData, teams):    \n",
    "    # loop through each teams DF to generate additional statistics\n",
    "    for index, team in enumerate(teams):\n",
    "\n",
    "        ## OFFENSIVE STATS\n",
    "        teamsData[team]['Run_Margin'] = teamsData[team]['R'] - teamsData[team]['RA']\n",
    "        teamsData[team]['Run_Margin_10D_Exp_MA'] = teamsData[team]['Run_Margin'].rolling(window = 10).mean() # 10 day run margin MA\n",
    "        teamsData[team]['ER_10D_MA'] = teamsData[team]['ER'].rolling(window = 10).mean() # 10 day run margin MA\n",
    "        teamsData[team]['Daily_BA'] = teamsData[team]['H_batting'] / teamsData[team]['AB_batting']\n",
    "        teamsData[team]['10D_BA_MA'] = teamsData[team]['Daily_BA'].rolling(window = 10).mean() # 10 day run margin MA\n",
    "        teamsData[team]['Daily_OBP'] = (teamsData[team]['H_batting'] + teamsData[team]['BB_batting'] + teamsData[team]['HBP_batting']) / teamsData[team]['PA'] \n",
    "        singles = teamsData[team]['H_batting'] - teamsData[team]['2B_batting'] - teamsData[team]['3B_batting'] - teamsData[team]['HR_batting']\n",
    "        teamsData[team]['Daily_SLG'] =  (singles + (2 * teamsData[team]['2B_batting']) + (3 * teamsData[team]['3B_batting']) + (4 *teamsData[team]['HR_batting'])) / teamsData[team]['AB_batting'] \n",
    "        # Calculation for Slugging: (1B) +( 2 x 2B) + ( 3 x 3B) + ( 4 x HR) / AB\n",
    "        teamsData[team]['10D_SLG_MA'] = teamsData[team]['Daily_SLG'].rolling(window = 10).mean() # 10 day run margin MA\n",
    "        teamsData[team]['Daily_OPS'] = teamsData[team]['Daily_OBP'] + teamsData[team]['Daily_SLG']\n",
    "        teamsData[team]['10D_OPS_MA'] = teamsData[team]['Daily_OPS'].rolling(window = 10).mean() # 10 day run margin MA\n",
    "        teamsData[team]['10D_SO_MA_batting'] = teamsData[team]['SO_batting'].rolling(window = 10).mean() # 10 day run margin MA\n",
    "        teamsData[team]['15D_RBI_MA'] = teamsData[team]['RBI'].rolling(window = 15).mean() # 10 day run margin MA\n",
    "        teamsData[team]['7D_HR_MA'] = teamsData[team]['HR_batting'].rolling(window = 7).mean() # 10 day run margin MA\n",
    "        teamsData[team]['10D_BB_MA'] = teamsData[team]['BB_batting'].rolling(window = 10).mean() # 10 day run margin MA\n",
    "\n",
    "\n",
    "\n",
    "        ## DEFENSIVE STATS\n",
    "        teamsData[team]['Daily_ERA'] = 9 * teamsData[team]['ER'] / teamsData[team]['IP']\n",
    "        teamsData[team]['10D_ERA_MA'] = teamsData[team]['Daily_ERA'].rolling(window = 10).mean() # 10 day run margin MA\n",
    "        teamsData[team]['Daily_WHIP'] = teamsData[team]['BB_pitching'] + teamsData[team]['H_pitching'] / teamsData[team]['IP']\n",
    "        teamsData[team]['10D_WHIP_MA'] = teamsData[team]['Daily_WHIP'].rolling(window = 10).mean() # 10 day run margin MA\n",
    "        teamsData[team]['10D_SO_MA_pitching'] = teamsData[team]['SO_pitching'].rolling(window = 10).mean() # 10 day run margin MA\n",
    "        teamsData[team]['Pit/In'] = teamsData[team]['Pit'] / teamsData[team]['IP']\n",
    "        teamsData[team]['7D_Pit/In_MA'] = teamsData[team]['Pit/In'].rolling(window = 10).mean() # 10 day run margin MA\n",
    "    \n",
    "    return teamsData\n",
    "        #teamsData[team]['Daily_OPS']\n",
    "        #df['%D'] = df['%K'].ewm(span=b,min_periods=b).mean()"
   ]
  },
  {
   "cell_type": "markdown",
   "id": "028e78e5",
   "metadata": {},
   "source": [
    "### Adding Starting Pitcher & Bullpen Stats"
   ]
  },
  {
   "cell_type": "code",
   "execution_count": 4,
   "id": "04e9af1e",
   "metadata": {},
   "outputs": [],
   "source": [
    "def Get_Pitcher_Data(year, teams):\n",
    "    pitching_rotation = {}\n",
    "\n",
    "    for team in teams:\n",
    "\n",
    "        pitching_url = 'https://www.baseball-reference.com/teams/'+ team +'/' + year + '-pitching.shtml'\n",
    "        # opening the url for reading\n",
    "        html = urllib.request.urlopen(pitching_url)\n",
    "\n",
    "        # parsing the html file\n",
    "        soup = BeautifulSoup(html, 'html.parser')\n",
    "\n",
    "        table = soup.find(\"table\", { \"id\" : \"team_pitching\" })\n",
    "\n",
    "        pitching_rotation[team] = pd.read_html(str(table))[0]\n",
    "\n",
    "        # Change Formatting of Name Columns In Order To Merge Dataframes\n",
    "        pitching_rotation[team] = pitching_rotation[team].add_suffix('_Starting_Pitcher')  # add suffix so it does not overlap with _bating or _pitching stats\n",
    "        pitching_rotation[team]['Name_Starting_Pitcher'] = pitching_rotation[team]['Name_Starting_Pitcher'].str.replace(r'-man|[^a-zA-Z ]|day IL', '')#, expand=False)\n",
    "        #pitching_rotation[team][['Pitcher First Name','Pitcher Last Name']] = pitching_rotation[team]['Name_Starting_Pitcher'].loc[pitching_rotation[team]['Name_Starting_Pitcher'].str.split().str.len() == 2].str.split(expand=True)\n",
    "        pitching_rotation[team]['Pitcher Last Name'] = pitching_rotation[team]['Name_Starting_Pitcher'].astype(str).str.split().str[1]\n",
    "        pitching_rotation[team]['Pitcher First Name'] = pitching_rotation[team]['Name_Starting_Pitcher'].astype(str).str.split().str[0]\n",
    "        pitching_rotation[team]['Pitcher First Initial'] =  pitching_rotation[team]['Name_Starting_Pitcher'].str[:1] # get first initial of pitchers first name (since teams have multiple pitchers with same last name)\n",
    "\n",
    "        pitching_rotation[team] = pitching_rotation[team][pitching_rotation[team]['Rk_Starting_Pitcher'] != 'Rk'] # delete rows where the column statistics are repeated on the website\n",
    "        pitching_rotation[team] = pitching_rotation[team][pitching_rotation[team]['Rk_Starting_Pitcher'] != 'Rk'] # delete rows where the column statistics are repeated on the website\n",
    "        pitching_rotation[team].drop(pitching_rotation[team].tail(2).index, inplace = True) # drop last 2 rows which contain stats for the whole team\n",
    "\n",
    "        pitching_rotation[team][['Rk_Starting_Pitcher','W_Starting_Pitcher', 'L_Starting_Pitcher', 'W-L%_Starting_Pitcher', 'ERA_Starting_Pitcher', 'G_Starting_Pitcher', 'GS_Starting_Pitcher',\n",
    "                                 'IP_Starting_Pitcher', 'H_Starting_Pitcher', 'R_Starting_Pitcher', 'ER_Starting_Pitcher', 'HR_Starting_Pitcher', 'BB_Starting_Pitcher', 'SO_Starting_Pitcher',\n",
    "                                 'HBP_Starting_Pitcher', 'WP_Starting_Pitcher', 'BF_Starting_Pitcher', 'ERA+_Starting_Pitcher', 'FIP_Starting_Pitcher', 'WHIP_Starting_Pitcher', 'H9_Starting_Pitcher',\n",
    "                                 'HR9_Starting_Pitcher', 'BB9_Starting_Pitcher', 'SO9_Starting_Pitcher', 'SO/W_Starting_Pitcher']] = pitching_rotation[team][['Rk_Starting_Pitcher', 'W_Starting_Pitcher', 'L_Starting_Pitcher', 'W-L%_Starting_Pitcher', 'ERA_Starting_Pitcher', 'G_Starting_Pitcher', 'GS_Starting_Pitcher',\n",
    "                                                                                                                                             'IP_Starting_Pitcher', 'H_Starting_Pitcher', 'R_Starting_Pitcher', 'ER_Starting_Pitcher', 'HR_Starting_Pitcher', 'BB_Starting_Pitcher', 'SO_Starting_Pitcher',\n",
    "                                                                                                                                             'HBP_Starting_Pitcher', 'WP_Starting_Pitcher', 'BF_Starting_Pitcher', 'ERA+_Starting_Pitcher', 'FIP_Starting_Pitcher', 'WHIP_Starting_Pitcher', 'H9_Starting_Pitcher',\n",
    "                                                                                                                                             'HR9_Starting_Pitcher', 'BB9_Starting_Pitcher', 'SO9_Starting_Pitcher', 'SO/W_Starting_Pitcher']].apply(pd.to_numeric)\n",
    "        ###################################### DO NOT CODE ABOVE THIS LINE #############################################################################################\n",
    "    \n",
    "    return pitching_rotation"
   ]
  },
  {
   "cell_type": "code",
   "execution_count": 5,
   "id": "71346761",
   "metadata": {},
   "outputs": [],
   "source": [
    "def Add_Bullpen_Data(teamsData, pitching_rotation, teams):\n",
    "\n",
    "    for team in teams:\n",
    "        # Add Bullpen Stats\n",
    "        teamsData[team]['Bullpen_ERA'] = pitching_rotation[team][pitching_rotation[team]['Pos_Starting_Pitcher'] == 'RP']['ERA_Starting_Pitcher'].mean()\n",
    "        teamsData[team]['Bullpen_WHIP'] = pitching_rotation[team][pitching_rotation[team]['Pos_Starting_Pitcher'] == 'RP']['WHIP_Starting_Pitcher'].mean()\n",
    "        teamsData[team]['Bullpen_H9'] = pitching_rotation[team][pitching_rotation[team]['Pos_Starting_Pitcher'] == 'RP']['H9_Starting_Pitcher'].mean()\n",
    "        teamsData[team]['Bullpen_HR9'] = pitching_rotation[team][pitching_rotation[team]['Pos_Starting_Pitcher'] == 'RP']['HR9_Starting_Pitcher'].mean()\n",
    "        teamsData[team]['Bullpen_BB9'] = pitching_rotation[team][pitching_rotation[team]['Pos_Starting_Pitcher'] == 'RP']['BB9_Starting_Pitcher'].mean()\n",
    "        teamsData[team]['Bullpen_SO9'] = pitching_rotation[team][pitching_rotation[team]['Pos_Starting_Pitcher'] == 'RP']['SO9_Starting_Pitcher'].mean()\n",
    "        teamsData[team]['Bullpen_SO/W'] = pitching_rotation[team][pitching_rotation[team]['Pos_Starting_Pitcher'] == 'RP']['SO/W_Starting_Pitcher'].mean()\n",
    "        teamsData[team]['Bullpen_FIP'] = pitching_rotation[team][pitching_rotation[team]['Pos_Starting_Pitcher'] == 'RP']['FIP_Starting_Pitcher'].mean()\n",
    "        teamsData[team]['Bullpen_ERA+'] = pitching_rotation[team][pitching_rotation[team]['Pos_Starting_Pitcher'] == 'RP']['ERA+_Starting_Pitcher'].mean()\n",
    "\n",
    "        # Add Closer Stats\n",
    "        teamsData[team]['Closer_ERA'] = pitching_rotation[team][pitching_rotation[team]['Pos_Starting_Pitcher'] == 'CL']['ERA_Starting_Pitcher'].mean()\n",
    "        teamsData[team]['Closer_WHIP'] = pitching_rotation[team][pitching_rotation[team]['Pos_Starting_Pitcher'] == 'CL']['WHIP_Starting_Pitcher'].mean()\n",
    "        teamsData[team]['Closer_H9'] = pitching_rotation[team][pitching_rotation[team]['Pos_Starting_Pitcher'] == 'CL']['H9_Starting_Pitcher'].mean()\n",
    "        teamsData[team]['Closer_HR9'] = pitching_rotation[team][pitching_rotation[team]['Pos_Starting_Pitcher'] == 'CL']['HR9_Starting_Pitcher'].mean()\n",
    "        teamsData[team]['Closer_BB9'] = pitching_rotation[team][pitching_rotation[team]['Pos_Starting_Pitcher'] == 'CL']['BB9_Starting_Pitcher'].mean()\n",
    "        teamsData[team]['Closer_SO9'] = pitching_rotation[team][pitching_rotation[team]['Pos_Starting_Pitcher'] == 'CL']['SO9_Starting_Pitcher'].mean()\n",
    "        teamsData[team]['Closer_SO/W'] = pitching_rotation[team][pitching_rotation[team]['Pos_Starting_Pitcher'] == 'CL']['SO/W_Starting_Pitcher'].mean()\n",
    "        teamsData[team]['Closer_FIP'] = pitching_rotation[team][pitching_rotation[team]['Pos_Starting_Pitcher'] == 'CL']['FIP_Starting_Pitcher'].mean()\n",
    "        teamsData[team]['Closer_ERA+'] = pitching_rotation[team][pitching_rotation[team]['Pos_Starting_Pitcher'] == 'CL']['ERA+_Starting_Pitcher'].mean()\n",
    "\n",
    "\n",
    "        teamsData[team][['Bullpen_ERA', 'Bullpen_WHIP', 'Bullpen_H9', 'Bullpen_HR9', 'Bullpen_BB9', 'Bullpen_SO9', 'Bullpen_SO/W', 'Bullpen_FIP',\n",
    "                        'Bullpen_ERA+', 'Closer_ERA', 'Closer_WHIP', 'Closer_H9', 'Closer_HR9', 'Closer_BB9', 'Closer_SO9', 'Closer_SO/W', 'Closer_FIP', 'Closer_ERA+']] = teamsData[team][['Bullpen_ERA', 'Bullpen_WHIP', 'Bullpen_H9', 'Bullpen_HR9', 'Bullpen_BB9', 'Bullpen_SO9', 'Bullpen_SO/W', 'Bullpen_FIP',\n",
    "                                                                                                                                                                                            'Bullpen_ERA+', 'Closer_ERA', 'Closer_WHIP', 'Closer_H9', 'Closer_HR9', 'Closer_BB9', 'Closer_SO9', 'Closer_SO/W', 'Closer_FIP', 'Closer_ERA+']].apply(pd.to_numeric)\n",
    "            ###################################### DO NOT CODE ABOVE THIS LINE #############################################################################################\n",
    "\n",
    "    return teamsData"
   ]
  },
  {
   "cell_type": "code",
   "execution_count": 6,
   "id": "a85d9804",
   "metadata": {},
   "outputs": [],
   "source": [
    "def Add_Fielding_Data(year, teams, teamsData):\n",
    "    \n",
    "    fielding_data = {}\n",
    "\n",
    "    for team in teams:\n",
    "\n",
    "        fielding_url = 'https://www.baseball-reference.com/teams/' + team + '/' + year + '-fielding.shtml'\n",
    "\n",
    "        # NOTE: Different method of scrapping, referenced here: https://stackoverflow.com/questions/57032340/python-beautiful-soup-cant-find-specific-table\n",
    "        response = requests.get(fielding_url)\n",
    "\n",
    "        soup = BeautifulSoup(response.text, 'html.parser')\n",
    "\n",
    "        comments = soup.find_all(string=lambda text: isinstance(text, Comment))\n",
    "\n",
    "        tables = []\n",
    "        for each in comments:\n",
    "            if 'table' in each:\n",
    "                try:\n",
    "                    tables.append(pd.read_html(each)[0])\n",
    "                except:\n",
    "                    continue\n",
    "\n",
    "        fielding_data[team] = tables[0]\n",
    "\n",
    "        #fielding_data[team] = fielding_data[team].head(30)\n",
    "\n",
    "        fielding_data[team].drop(fielding_data[team].tail(5).index, inplace = True) # drop last 2 rows which contain stats for the whole team\n",
    "        #print(fielding_data[team].head())\n",
    "        # change attributes to fielding attributes\n",
    "\n",
    "        fielding_data[team][['G','GS', 'CG', 'Inn', 'Ch', 'PO', 'A', 'E', 'DP', 'Fld%', 'Rtot', 'Rtot/yr', 'Rdrs', 'Rdrs/yr', 'Rgood', 'RF/9', 'RF/G', 'SB', 'CS',\n",
    "                                                                                     'PO']] = fielding_data[team][['G', 'GS', 'CG', 'Inn', 'Ch', 'PO', 'A', 'E', 'DP', 'Fld%', 'Rtot', 'Rtot/yr', 'Rdrs', 'Rdrs/yr', 'Rgood', 'RF/9', 'RF/G', 'SB', 'CS', 'PO']].apply(pd.to_numeric)\n",
    "\n",
    "        ###################################### DO NOT CODE ABOVE THIS LINE #############################################################################################\n",
    "\n",
    "        # filter data to only include players who play in the field often\n",
    "        fielding_data[team] = fielding_data[team][(fielding_data[team]['G'] > 30) & (fielding_data[team]['Inn'] > 100)]\n",
    "        #fielding_data[team]['Team_Avg_Fld%'] = fielding_data[team]['Fld%'].mean()\n",
    "        teamsData[team]['Team_Avg_Fld%'] = fielding_data[team]['Fld%'].mean()\n",
    "        teamsData[team]['Team_Avg_Rdrs/yr'] = fielding_data[team]['Rdrs/yr'].mean()\n",
    "        teamsData[team]['Team_Avg_Rtot/yr'] = fielding_data[team]['Rtot/yr'].mean()\n",
    "        teamsData[team]['Team_Avg_Rgood'] = fielding_data[team]['Rgood'].mean()\n",
    "        teamsData[team]['Team_Avg_RF/G'] = fielding_data[team]['RF/G'].mean()\n",
    "        \n",
    "    return teamsData"
   ]
  },
  {
   "cell_type": "markdown",
   "id": "afedee7c",
   "metadata": {},
   "source": [
    "### Add Away-Team's Statistics to Gameday Statline\n"
   ]
  },
  {
   "cell_type": "code",
   "execution_count": 7,
   "id": "9dc294dc",
   "metadata": {},
   "outputs": [],
   "source": [
    "def Add_Pitcher_Stats(teamsData, pitching_rotation, teams):    \n",
    "    # add starting pitching data to new data Dataframe\n",
    "    newDataDF = {}\n",
    "\n",
    "    for team in teams:\n",
    "\n",
    "        newDataDF[team] = pd.DataFrame() # initialize team dataframe to store combined stats\n",
    "\n",
    "        for pitcher_last_name in pitching_rotation[team]['Pitcher Last Name']:\n",
    "\n",
    "            pitcher_stats = pitching_rotation[team][pitching_rotation[team]['Pitcher Last Name'] == pitcher_last_name] # get pitcher stats\n",
    "            pitcher_games = teamsData[team][teamsData[team]['Pitcher Last Name'] == pitcher_last_name] # get games pitcher pitched in\n",
    "\n",
    "            df = pitcher_games.merge(pitcher_stats, how = 'left' , on = ['Pitcher Last Name', 'Pitcher First Initial']) # add pitcher stats to every game he's pitched in\n",
    "\n",
    "            newDataDF[team] =  newDataDF[team].append(df)  # append pitchers results to the teams dataframe\n",
    "\n",
    "        #newDataDF[team] = newDataDF[team].sort_values(by = 'Gm#') # sort values so games are in order\n",
    "        ##newDataDF[team] = newDataDF[team].drop_duplicates('Gm#') # delete duplicates that occur on some teams only (not sure why?)\n",
    "        ##newDataDF[team].reset_index(inplace = True) # reset the index that gets messed up on the merge\n",
    "    \n",
    "    return newDataDF\n",
    "        #pitchers_games =\n",
    "        #newDataDF[team] = teamsData[team].merge(pitching_rotation[team], how = 'left', on = 'Pitcher Last Name')"
   ]
  },
  {
   "cell_type": "code",
   "execution_count": 8,
   "id": "9622232f",
   "metadata": {},
   "outputs": [],
   "source": [
    "def Get_Opponent_Data(newDataDF, teams):\n",
    "    \n",
    "    finalDF = {}\n",
    "\n",
    "    # merge new data with opponent matchup data to create final dataframe\n",
    "    for index, team, in enumerate(teams):\n",
    "        finalDF[team] = pd.DataFrame()\n",
    "        for index, opponent in enumerate(teams):\n",
    "\n",
    "            HomeTeamDF = newDataDF[team].loc[newDataDF[team]['Opp'] == opponent]  # calculate all games faced against an opponent\n",
    "            OpponentsDF = newDataDF[opponent].loc[newDataDF[opponent]['Opp'] == team] # calculate opposing teams instances of the same games\n",
    "\n",
    "            df = HomeTeamDF.merge(OpponentsDF, on = 'Date', suffixes=(None, '_Opponent')) # merge games \n",
    "\n",
    "\n",
    "            finalDF[team] = finalDF[team].append(df)\n",
    "    \n",
    "    return finalDF\n",
    "        #finalDF[team] = finalDF[team].sort_values('Gm#') # sort values by game number (they get unsorted during the merge)\n",
    "        #finalDF[team].reset_index(inplace = True) # Reset the index since it gets messed up on merge"
   ]
  },
  {
   "cell_type": "markdown",
   "id": "6aa3b615",
   "metadata": {},
   "source": [
    "## Main Function"
   ]
  },
  {
   "cell_type": "code",
   "execution_count": 9,
   "id": "5e6bde2e",
   "metadata": {},
   "outputs": [
    {
     "name": "stderr",
     "output_type": "stream",
     "text": [
      "<ipython-input-4-f4223505fcb3>:19: FutureWarning: The default value of regex will change from True to False in a future version.\n",
      "  pitching_rotation[team]['Name_Starting_Pitcher'] = pitching_rotation[team]['Name_Starting_Pitcher'].str.replace(r'-man|[^a-zA-Z ]|day IL', '')#, expand=False)\n",
      "<ipython-input-4-f4223505fcb3>:19: FutureWarning: The default value of regex will change from True to False in a future version.\n",
      "  pitching_rotation[team]['Name_Starting_Pitcher'] = pitching_rotation[team]['Name_Starting_Pitcher'].str.replace(r'-man|[^a-zA-Z ]|day IL', '')#, expand=False)\n",
      "<ipython-input-4-f4223505fcb3>:19: FutureWarning: The default value of regex will change from True to False in a future version.\n",
      "  pitching_rotation[team]['Name_Starting_Pitcher'] = pitching_rotation[team]['Name_Starting_Pitcher'].str.replace(r'-man|[^a-zA-Z ]|day IL', '')#, expand=False)\n",
      "<ipython-input-4-f4223505fcb3>:19: FutureWarning: The default value of regex will change from True to False in a future version.\n",
      "  pitching_rotation[team]['Name_Starting_Pitcher'] = pitching_rotation[team]['Name_Starting_Pitcher'].str.replace(r'-man|[^a-zA-Z ]|day IL', '')#, expand=False)\n",
      "<ipython-input-4-f4223505fcb3>:19: FutureWarning: The default value of regex will change from True to False in a future version.\n",
      "  pitching_rotation[team]['Name_Starting_Pitcher'] = pitching_rotation[team]['Name_Starting_Pitcher'].str.replace(r'-man|[^a-zA-Z ]|day IL', '')#, expand=False)\n",
      "<ipython-input-4-f4223505fcb3>:19: FutureWarning: The default value of regex will change from True to False in a future version.\n",
      "  pitching_rotation[team]['Name_Starting_Pitcher'] = pitching_rotation[team]['Name_Starting_Pitcher'].str.replace(r'-man|[^a-zA-Z ]|day IL', '')#, expand=False)\n",
      "<ipython-input-4-f4223505fcb3>:19: FutureWarning: The default value of regex will change from True to False in a future version.\n",
      "  pitching_rotation[team]['Name_Starting_Pitcher'] = pitching_rotation[team]['Name_Starting_Pitcher'].str.replace(r'-man|[^a-zA-Z ]|day IL', '')#, expand=False)\n",
      "<ipython-input-4-f4223505fcb3>:19: FutureWarning: The default value of regex will change from True to False in a future version.\n",
      "  pitching_rotation[team]['Name_Starting_Pitcher'] = pitching_rotation[team]['Name_Starting_Pitcher'].str.replace(r'-man|[^a-zA-Z ]|day IL', '')#, expand=False)\n",
      "<ipython-input-4-f4223505fcb3>:19: FutureWarning: The default value of regex will change from True to False in a future version.\n",
      "  pitching_rotation[team]['Name_Starting_Pitcher'] = pitching_rotation[team]['Name_Starting_Pitcher'].str.replace(r'-man|[^a-zA-Z ]|day IL', '')#, expand=False)\n",
      "<ipython-input-4-f4223505fcb3>:19: FutureWarning: The default value of regex will change from True to False in a future version.\n",
      "  pitching_rotation[team]['Name_Starting_Pitcher'] = pitching_rotation[team]['Name_Starting_Pitcher'].str.replace(r'-man|[^a-zA-Z ]|day IL', '')#, expand=False)\n",
      "<ipython-input-4-f4223505fcb3>:19: FutureWarning: The default value of regex will change from True to False in a future version.\n",
      "  pitching_rotation[team]['Name_Starting_Pitcher'] = pitching_rotation[team]['Name_Starting_Pitcher'].str.replace(r'-man|[^a-zA-Z ]|day IL', '')#, expand=False)\n",
      "<ipython-input-4-f4223505fcb3>:19: FutureWarning: The default value of regex will change from True to False in a future version.\n",
      "  pitching_rotation[team]['Name_Starting_Pitcher'] = pitching_rotation[team]['Name_Starting_Pitcher'].str.replace(r'-man|[^a-zA-Z ]|day IL', '')#, expand=False)\n",
      "<ipython-input-4-f4223505fcb3>:19: FutureWarning: The default value of regex will change from True to False in a future version.\n",
      "  pitching_rotation[team]['Name_Starting_Pitcher'] = pitching_rotation[team]['Name_Starting_Pitcher'].str.replace(r'-man|[^a-zA-Z ]|day IL', '')#, expand=False)\n",
      "<ipython-input-4-f4223505fcb3>:19: FutureWarning: The default value of regex will change from True to False in a future version.\n",
      "  pitching_rotation[team]['Name_Starting_Pitcher'] = pitching_rotation[team]['Name_Starting_Pitcher'].str.replace(r'-man|[^a-zA-Z ]|day IL', '')#, expand=False)\n",
      "<ipython-input-4-f4223505fcb3>:19: FutureWarning: The default value of regex will change from True to False in a future version.\n",
      "  pitching_rotation[team]['Name_Starting_Pitcher'] = pitching_rotation[team]['Name_Starting_Pitcher'].str.replace(r'-man|[^a-zA-Z ]|day IL', '')#, expand=False)\n",
      "<ipython-input-4-f4223505fcb3>:19: FutureWarning: The default value of regex will change from True to False in a future version.\n",
      "  pitching_rotation[team]['Name_Starting_Pitcher'] = pitching_rotation[team]['Name_Starting_Pitcher'].str.replace(r'-man|[^a-zA-Z ]|day IL', '')#, expand=False)\n",
      "<ipython-input-4-f4223505fcb3>:19: FutureWarning: The default value of regex will change from True to False in a future version.\n",
      "  pitching_rotation[team]['Name_Starting_Pitcher'] = pitching_rotation[team]['Name_Starting_Pitcher'].str.replace(r'-man|[^a-zA-Z ]|day IL', '')#, expand=False)\n",
      "<ipython-input-4-f4223505fcb3>:19: FutureWarning: The default value of regex will change from True to False in a future version.\n",
      "  pitching_rotation[team]['Name_Starting_Pitcher'] = pitching_rotation[team]['Name_Starting_Pitcher'].str.replace(r'-man|[^a-zA-Z ]|day IL', '')#, expand=False)\n",
      "<ipython-input-4-f4223505fcb3>:19: FutureWarning: The default value of regex will change from True to False in a future version.\n",
      "  pitching_rotation[team]['Name_Starting_Pitcher'] = pitching_rotation[team]['Name_Starting_Pitcher'].str.replace(r'-man|[^a-zA-Z ]|day IL', '')#, expand=False)\n",
      "<ipython-input-4-f4223505fcb3>:19: FutureWarning: The default value of regex will change from True to False in a future version.\n",
      "  pitching_rotation[team]['Name_Starting_Pitcher'] = pitching_rotation[team]['Name_Starting_Pitcher'].str.replace(r'-man|[^a-zA-Z ]|day IL', '')#, expand=False)\n",
      "<ipython-input-4-f4223505fcb3>:19: FutureWarning: The default value of regex will change from True to False in a future version.\n",
      "  pitching_rotation[team]['Name_Starting_Pitcher'] = pitching_rotation[team]['Name_Starting_Pitcher'].str.replace(r'-man|[^a-zA-Z ]|day IL', '')#, expand=False)\n",
      "<ipython-input-4-f4223505fcb3>:19: FutureWarning: The default value of regex will change from True to False in a future version.\n",
      "  pitching_rotation[team]['Name_Starting_Pitcher'] = pitching_rotation[team]['Name_Starting_Pitcher'].str.replace(r'-man|[^a-zA-Z ]|day IL', '')#, expand=False)\n",
      "<ipython-input-4-f4223505fcb3>:19: FutureWarning: The default value of regex will change from True to False in a future version.\n",
      "  pitching_rotation[team]['Name_Starting_Pitcher'] = pitching_rotation[team]['Name_Starting_Pitcher'].str.replace(r'-man|[^a-zA-Z ]|day IL', '')#, expand=False)\n",
      "<ipython-input-4-f4223505fcb3>:19: FutureWarning: The default value of regex will change from True to False in a future version.\n",
      "  pitching_rotation[team]['Name_Starting_Pitcher'] = pitching_rotation[team]['Name_Starting_Pitcher'].str.replace(r'-man|[^a-zA-Z ]|day IL', '')#, expand=False)\n",
      "<ipython-input-4-f4223505fcb3>:19: FutureWarning: The default value of regex will change from True to False in a future version.\n",
      "  pitching_rotation[team]['Name_Starting_Pitcher'] = pitching_rotation[team]['Name_Starting_Pitcher'].str.replace(r'-man|[^a-zA-Z ]|day IL', '')#, expand=False)\n",
      "<ipython-input-4-f4223505fcb3>:19: FutureWarning: The default value of regex will change from True to False in a future version.\n",
      "  pitching_rotation[team]['Name_Starting_Pitcher'] = pitching_rotation[team]['Name_Starting_Pitcher'].str.replace(r'-man|[^a-zA-Z ]|day IL', '')#, expand=False)\n",
      "<ipython-input-4-f4223505fcb3>:19: FutureWarning: The default value of regex will change from True to False in a future version.\n",
      "  pitching_rotation[team]['Name_Starting_Pitcher'] = pitching_rotation[team]['Name_Starting_Pitcher'].str.replace(r'-man|[^a-zA-Z ]|day IL', '')#, expand=False)\n",
      "<ipython-input-4-f4223505fcb3>:19: FutureWarning: The default value of regex will change from True to False in a future version.\n",
      "  pitching_rotation[team]['Name_Starting_Pitcher'] = pitching_rotation[team]['Name_Starting_Pitcher'].str.replace(r'-man|[^a-zA-Z ]|day IL', '')#, expand=False)\n",
      "<ipython-input-4-f4223505fcb3>:19: FutureWarning: The default value of regex will change from True to False in a future version.\n",
      "  pitching_rotation[team]['Name_Starting_Pitcher'] = pitching_rotation[team]['Name_Starting_Pitcher'].str.replace(r'-man|[^a-zA-Z ]|day IL', '')#, expand=False)\n"
     ]
    },
    {
     "name": "stderr",
     "output_type": "stream",
     "text": [
      "<ipython-input-4-f4223505fcb3>:19: FutureWarning: The default value of regex will change from True to False in a future version.\n",
      "  pitching_rotation[team]['Name_Starting_Pitcher'] = pitching_rotation[team]['Name_Starting_Pitcher'].str.replace(r'-man|[^a-zA-Z ]|day IL', '')#, expand=False)\n",
      "<ipython-input-4-f4223505fcb3>:19: FutureWarning: The default value of regex will change from True to False in a future version.\n",
      "  pitching_rotation[team]['Name_Starting_Pitcher'] = pitching_rotation[team]['Name_Starting_Pitcher'].str.replace(r'-man|[^a-zA-Z ]|day IL', '')#, expand=False)\n",
      "<ipython-input-4-f4223505fcb3>:19: FutureWarning: The default value of regex will change from True to False in a future version.\n",
      "  pitching_rotation[team]['Name_Starting_Pitcher'] = pitching_rotation[team]['Name_Starting_Pitcher'].str.replace(r'-man|[^a-zA-Z ]|day IL', '')#, expand=False)\n",
      "<ipython-input-4-f4223505fcb3>:19: FutureWarning: The default value of regex will change from True to False in a future version.\n",
      "  pitching_rotation[team]['Name_Starting_Pitcher'] = pitching_rotation[team]['Name_Starting_Pitcher'].str.replace(r'-man|[^a-zA-Z ]|day IL', '')#, expand=False)\n",
      "<ipython-input-4-f4223505fcb3>:19: FutureWarning: The default value of regex will change from True to False in a future version.\n",
      "  pitching_rotation[team]['Name_Starting_Pitcher'] = pitching_rotation[team]['Name_Starting_Pitcher'].str.replace(r'-man|[^a-zA-Z ]|day IL', '')#, expand=False)\n",
      "<ipython-input-4-f4223505fcb3>:19: FutureWarning: The default value of regex will change from True to False in a future version.\n",
      "  pitching_rotation[team]['Name_Starting_Pitcher'] = pitching_rotation[team]['Name_Starting_Pitcher'].str.replace(r'-man|[^a-zA-Z ]|day IL', '')#, expand=False)\n",
      "<ipython-input-4-f4223505fcb3>:19: FutureWarning: The default value of regex will change from True to False in a future version.\n",
      "  pitching_rotation[team]['Name_Starting_Pitcher'] = pitching_rotation[team]['Name_Starting_Pitcher'].str.replace(r'-man|[^a-zA-Z ]|day IL', '')#, expand=False)\n",
      "<ipython-input-4-f4223505fcb3>:19: FutureWarning: The default value of regex will change from True to False in a future version.\n",
      "  pitching_rotation[team]['Name_Starting_Pitcher'] = pitching_rotation[team]['Name_Starting_Pitcher'].str.replace(r'-man|[^a-zA-Z ]|day IL', '')#, expand=False)\n",
      "<ipython-input-4-f4223505fcb3>:19: FutureWarning: The default value of regex will change from True to False in a future version.\n",
      "  pitching_rotation[team]['Name_Starting_Pitcher'] = pitching_rotation[team]['Name_Starting_Pitcher'].str.replace(r'-man|[^a-zA-Z ]|day IL', '')#, expand=False)\n",
      "<ipython-input-4-f4223505fcb3>:19: FutureWarning: The default value of regex will change from True to False in a future version.\n",
      "  pitching_rotation[team]['Name_Starting_Pitcher'] = pitching_rotation[team]['Name_Starting_Pitcher'].str.replace(r'-man|[^a-zA-Z ]|day IL', '')#, expand=False)\n",
      "<ipython-input-4-f4223505fcb3>:19: FutureWarning: The default value of regex will change from True to False in a future version.\n",
      "  pitching_rotation[team]['Name_Starting_Pitcher'] = pitching_rotation[team]['Name_Starting_Pitcher'].str.replace(r'-man|[^a-zA-Z ]|day IL', '')#, expand=False)\n",
      "<ipython-input-4-f4223505fcb3>:19: FutureWarning: The default value of regex will change from True to False in a future version.\n",
      "  pitching_rotation[team]['Name_Starting_Pitcher'] = pitching_rotation[team]['Name_Starting_Pitcher'].str.replace(r'-man|[^a-zA-Z ]|day IL', '')#, expand=False)\n",
      "<ipython-input-4-f4223505fcb3>:19: FutureWarning: The default value of regex will change from True to False in a future version.\n",
      "  pitching_rotation[team]['Name_Starting_Pitcher'] = pitching_rotation[team]['Name_Starting_Pitcher'].str.replace(r'-man|[^a-zA-Z ]|day IL', '')#, expand=False)\n",
      "<ipython-input-4-f4223505fcb3>:19: FutureWarning: The default value of regex will change from True to False in a future version.\n",
      "  pitching_rotation[team]['Name_Starting_Pitcher'] = pitching_rotation[team]['Name_Starting_Pitcher'].str.replace(r'-man|[^a-zA-Z ]|day IL', '')#, expand=False)\n",
      "<ipython-input-4-f4223505fcb3>:19: FutureWarning: The default value of regex will change from True to False in a future version.\n",
      "  pitching_rotation[team]['Name_Starting_Pitcher'] = pitching_rotation[team]['Name_Starting_Pitcher'].str.replace(r'-man|[^a-zA-Z ]|day IL', '')#, expand=False)\n",
      "<ipython-input-4-f4223505fcb3>:19: FutureWarning: The default value of regex will change from True to False in a future version.\n",
      "  pitching_rotation[team]['Name_Starting_Pitcher'] = pitching_rotation[team]['Name_Starting_Pitcher'].str.replace(r'-man|[^a-zA-Z ]|day IL', '')#, expand=False)\n",
      "<ipython-input-4-f4223505fcb3>:19: FutureWarning: The default value of regex will change from True to False in a future version.\n",
      "  pitching_rotation[team]['Name_Starting_Pitcher'] = pitching_rotation[team]['Name_Starting_Pitcher'].str.replace(r'-man|[^a-zA-Z ]|day IL', '')#, expand=False)\n",
      "<ipython-input-4-f4223505fcb3>:19: FutureWarning: The default value of regex will change from True to False in a future version.\n",
      "  pitching_rotation[team]['Name_Starting_Pitcher'] = pitching_rotation[team]['Name_Starting_Pitcher'].str.replace(r'-man|[^a-zA-Z ]|day IL', '')#, expand=False)\n",
      "<ipython-input-4-f4223505fcb3>:19: FutureWarning: The default value of regex will change from True to False in a future version.\n",
      "  pitching_rotation[team]['Name_Starting_Pitcher'] = pitching_rotation[team]['Name_Starting_Pitcher'].str.replace(r'-man|[^a-zA-Z ]|day IL', '')#, expand=False)\n",
      "<ipython-input-4-f4223505fcb3>:19: FutureWarning: The default value of regex will change from True to False in a future version.\n",
      "  pitching_rotation[team]['Name_Starting_Pitcher'] = pitching_rotation[team]['Name_Starting_Pitcher'].str.replace(r'-man|[^a-zA-Z ]|day IL', '')#, expand=False)\n",
      "<ipython-input-4-f4223505fcb3>:19: FutureWarning: The default value of regex will change from True to False in a future version.\n",
      "  pitching_rotation[team]['Name_Starting_Pitcher'] = pitching_rotation[team]['Name_Starting_Pitcher'].str.replace(r'-man|[^a-zA-Z ]|day IL', '')#, expand=False)\n",
      "<ipython-input-4-f4223505fcb3>:19: FutureWarning: The default value of regex will change from True to False in a future version.\n",
      "  pitching_rotation[team]['Name_Starting_Pitcher'] = pitching_rotation[team]['Name_Starting_Pitcher'].str.replace(r'-man|[^a-zA-Z ]|day IL', '')#, expand=False)\n",
      "<ipython-input-4-f4223505fcb3>:19: FutureWarning: The default value of regex will change from True to False in a future version.\n",
      "  pitching_rotation[team]['Name_Starting_Pitcher'] = pitching_rotation[team]['Name_Starting_Pitcher'].str.replace(r'-man|[^a-zA-Z ]|day IL', '')#, expand=False)\n",
      "<ipython-input-4-f4223505fcb3>:19: FutureWarning: The default value of regex will change from True to False in a future version.\n",
      "  pitching_rotation[team]['Name_Starting_Pitcher'] = pitching_rotation[team]['Name_Starting_Pitcher'].str.replace(r'-man|[^a-zA-Z ]|day IL', '')#, expand=False)\n",
      "<ipython-input-4-f4223505fcb3>:19: FutureWarning: The default value of regex will change from True to False in a future version.\n",
      "  pitching_rotation[team]['Name_Starting_Pitcher'] = pitching_rotation[team]['Name_Starting_Pitcher'].str.replace(r'-man|[^a-zA-Z ]|day IL', '')#, expand=False)\n",
      "<ipython-input-4-f4223505fcb3>:19: FutureWarning: The default value of regex will change from True to False in a future version.\n",
      "  pitching_rotation[team]['Name_Starting_Pitcher'] = pitching_rotation[team]['Name_Starting_Pitcher'].str.replace(r'-man|[^a-zA-Z ]|day IL', '')#, expand=False)\n",
      "<ipython-input-4-f4223505fcb3>:19: FutureWarning: The default value of regex will change from True to False in a future version.\n",
      "  pitching_rotation[team]['Name_Starting_Pitcher'] = pitching_rotation[team]['Name_Starting_Pitcher'].str.replace(r'-man|[^a-zA-Z ]|day IL', '')#, expand=False)\n",
      "<ipython-input-4-f4223505fcb3>:19: FutureWarning: The default value of regex will change from True to False in a future version.\n",
      "  pitching_rotation[team]['Name_Starting_Pitcher'] = pitching_rotation[team]['Name_Starting_Pitcher'].str.replace(r'-man|[^a-zA-Z ]|day IL', '')#, expand=False)\n",
      "<ipython-input-4-f4223505fcb3>:19: FutureWarning: The default value of regex will change from True to False in a future version.\n",
      "  pitching_rotation[team]['Name_Starting_Pitcher'] = pitching_rotation[team]['Name_Starting_Pitcher'].str.replace(r'-man|[^a-zA-Z ]|day IL', '')#, expand=False)\n"
     ]
    },
    {
     "name": "stderr",
     "output_type": "stream",
     "text": [
      "<ipython-input-4-f4223505fcb3>:19: FutureWarning: The default value of regex will change from True to False in a future version.\n",
      "  pitching_rotation[team]['Name_Starting_Pitcher'] = pitching_rotation[team]['Name_Starting_Pitcher'].str.replace(r'-man|[^a-zA-Z ]|day IL', '')#, expand=False)\n",
      "<ipython-input-4-f4223505fcb3>:19: FutureWarning: The default value of regex will change from True to False in a future version.\n",
      "  pitching_rotation[team]['Name_Starting_Pitcher'] = pitching_rotation[team]['Name_Starting_Pitcher'].str.replace(r'-man|[^a-zA-Z ]|day IL', '')#, expand=False)\n"
     ]
    }
   ],
   "source": [
    "teams = ['ARI', 'ATL', 'BAL', 'BOS', 'CHC', 'CHW', 'CIN', 'CLE', 'COL', 'DET', 'HOU', 'KCR', \n",
    "         'LAA', 'LAD', 'MIA', 'MIL', 'MIN', 'NYM', 'NYY', 'OAK', 'PHI', 'PIT', 'SDP', 'SEA',\n",
    "         'SFG', 'STL', 'TBR', 'TEX', 'TOR', 'WSN']\n",
    "\n",
    "MLB_Data = {}\n",
    "#years = ['2018', '2019', '2021']\n",
    "years = ['2020', '2021']\n",
    "for year in years:\n",
    "    data = Web_Scrape_Team_Data(year, teams)\n",
    "    data = Create_New_Attributes(data, teams)\n",
    "    pitcher_data = Get_Pitcher_Data(year, teams)\n",
    "    data = Add_Bullpen_Data(data, pitcher_data, teams)\n",
    "    data = Add_Fielding_Data(year, teams, data)\n",
    "    newData = Add_Pitcher_Stats(data, pitcher_data, teams)\n",
    "    MLB_Data[year] = Get_Opponent_Data(newData, teams)"
   ]
  },
  {
   "cell_type": "code",
   "execution_count": 10,
   "id": "ea62ee2f",
   "metadata": {},
   "outputs": [
    {
     "data": {
      "text/html": [
       "<div>\n",
       "<style scoped>\n",
       "    .dataframe tbody tr th:only-of-type {\n",
       "        vertical-align: middle;\n",
       "    }\n",
       "\n",
       "    .dataframe tbody tr th {\n",
       "        vertical-align: top;\n",
       "    }\n",
       "\n",
       "    .dataframe thead th {\n",
       "        text-align: right;\n",
       "    }\n",
       "</style>\n",
       "<table border=\"1\" class=\"dataframe\">\n",
       "  <thead>\n",
       "    <tr style=\"text-align: right;\">\n",
       "      <th></th>\n",
       "      <th>Pitcher Last Name</th>\n",
       "      <th>Pitcher First Name_Opponent</th>\n",
       "      <th>Pitcher Last Name_Opponent</th>\n",
       "      <th>Gm#</th>\n",
       "      <th>Date</th>\n",
       "      <th>Tm</th>\n",
       "      <th>Opp</th>\n",
       "      <th>W/L</th>\n",
       "      <th>R</th>\n",
       "      <th>RA</th>\n",
       "      <th>Bullpen_ERA_Opponent</th>\n",
       "    </tr>\n",
       "  </thead>\n",
       "  <tbody>\n",
       "    <tr>\n",
       "      <th>1</th>\n",
       "      <td>Rodon</td>\n",
       "      <td>Randy</td>\n",
       "      <td>Dobnak</td>\n",
       "      <td>47.0</td>\n",
       "      <td>Monday, Sep 14</td>\n",
       "      <td>CHW</td>\n",
       "      <td>MIN</td>\n",
       "      <td>W</td>\n",
       "      <td>3.0</td>\n",
       "      <td>1.0</td>\n",
       "      <td>3.1400</td>\n",
       "    </tr>\n",
       "    <tr>\n",
       "      <th>0</th>\n",
       "      <td>Rodon</td>\n",
       "      <td>Sonny</td>\n",
       "      <td>Gray</td>\n",
       "      <td>52.0</td>\n",
       "      <td>Saturday, Sep 19</td>\n",
       "      <td>CHW</td>\n",
       "      <td>CIN</td>\n",
       "      <td>W</td>\n",
       "      <td>5.0</td>\n",
       "      <td>0.0</td>\n",
       "      <td>3.8625</td>\n",
       "    </tr>\n",
       "    <tr>\n",
       "      <th>3</th>\n",
       "      <td>Keuchel</td>\n",
       "      <td>Cal</td>\n",
       "      <td>Quantrill</td>\n",
       "      <td>57.0</td>\n",
       "      <td>Thursday, Sep 24</td>\n",
       "      <td>CHW</td>\n",
       "      <td>CLE</td>\n",
       "      <td>L</td>\n",
       "      <td>4.0</td>\n",
       "      <td>5.0</td>\n",
       "      <td>3.1650</td>\n",
       "    </tr>\n",
       "    <tr>\n",
       "      <th>0</th>\n",
       "      <td>Cease</td>\n",
       "      <td>Kyle</td>\n",
       "      <td>Hendricks</td>\n",
       "      <td>59.0</td>\n",
       "      <td>Saturday, Sep 26</td>\n",
       "      <td>CHW</td>\n",
       "      <td>CHC</td>\n",
       "      <td>W</td>\n",
       "      <td>9.0</td>\n",
       "      <td>5.0</td>\n",
       "      <td>3.7900</td>\n",
       "    </tr>\n",
       "    <tr>\n",
       "      <th>1</th>\n",
       "      <td>Rodon</td>\n",
       "      <td>Adbert</td>\n",
       "      <td>Alzolay</td>\n",
       "      <td>60.0</td>\n",
       "      <td>Sunday, Sep 27</td>\n",
       "      <td>CHW</td>\n",
       "      <td>CHC</td>\n",
       "      <td>L</td>\n",
       "      <td>8.0</td>\n",
       "      <td>10.0</td>\n",
       "      <td>3.7900</td>\n",
       "    </tr>\n",
       "  </tbody>\n",
       "</table>\n",
       "</div>"
      ],
      "text/plain": [
       "  Pitcher Last Name Pitcher First Name_Opponent Pitcher Last Name_Opponent  \\\n",
       "1             Rodon                       Randy                     Dobnak   \n",
       "0             Rodon                       Sonny                       Gray   \n",
       "3           Keuchel                         Cal                  Quantrill   \n",
       "0             Cease                        Kyle                  Hendricks   \n",
       "1             Rodon                      Adbert                    Alzolay   \n",
       "\n",
       "    Gm#              Date   Tm  Opp W/L    R    RA  Bullpen_ERA_Opponent  \n",
       "1  47.0    Monday, Sep 14  CHW  MIN   W  3.0   1.0                3.1400  \n",
       "0  52.0  Saturday, Sep 19  CHW  CIN   W  5.0   0.0                3.8625  \n",
       "3  57.0  Thursday, Sep 24  CHW  CLE   L  4.0   5.0                3.1650  \n",
       "0  59.0  Saturday, Sep 26  CHW  CHC   W  9.0   5.0                3.7900  \n",
       "1  60.0    Sunday, Sep 27  CHW  CHC   L  8.0  10.0                3.7900  "
      ]
     },
     "execution_count": 10,
     "metadata": {},
     "output_type": "execute_result"
    }
   ],
   "source": [
    "MLB_Data['2020']['CHW'][['Pitcher Last Name', 'Pitcher First Name_Opponent', 'Pitcher Last Name_Opponent', 'Gm#', 'Date', 'Tm', 'Opp', 'W/L', 'R', 'RA', 'Bullpen_ERA_Opponent']].sort_values(by = 'Gm#').tail()\n"
   ]
  },
  {
   "cell_type": "markdown",
   "id": "8b0d7375",
   "metadata": {},
   "source": [
    "## Combine Yearly Data From Each Team"
   ]
  },
  {
   "cell_type": "code",
   "execution_count": 41,
   "id": "8ff41ad9",
   "metadata": {},
   "outputs": [
    {
     "name": "stdout",
     "output_type": "stream",
     "text": [
      "3578\n"
     ]
    }
   ],
   "source": [
    "Combined_Years_Data = pd.DataFrame()\n",
    "\n",
    "for year in years:\n",
    "    for team in teams:\n",
    "        Combined_Years_Data = Combined_Years_Data.append(MLB_Data[year][team])\n",
    "        \n",
    "print(len(Combined_Years_Data))"
   ]
  },
  {
   "cell_type": "code",
   "execution_count": 42,
   "id": "3f1d5736",
   "metadata": {},
   "outputs": [],
   "source": [
    "Combined_Years_Data['W/L'] = Combined_Years_Data['W/L'].map({'W' : 'W',\n",
    "                                                             'L' : 'L',\n",
    "                                                             'L-wo' : 'L',\n",
    "                                                             'W-wo' : 'W'})\n",
    "\n",
    "Combined_Years_Data.to_csv('CombinedYearsData.csv')"
   ]
  },
  {
   "cell_type": "markdown",
   "id": "c0909fa9",
   "metadata": {},
   "source": [
    "## Let's take a look at the newly, scraped data..."
   ]
  },
  {
   "cell_type": "code",
   "execution_count": null,
   "id": "df6e469c",
   "metadata": {},
   "outputs": [],
   "source": [
    "for team in teams:\n",
    "    print(pitching_rotation[team][['Pitcher Last Name', 'Pitcher First Name', 'Pitcher First Initial']])"
   ]
  },
  {
   "cell_type": "code",
   "execution_count": null,
   "id": "64925782",
   "metadata": {},
   "outputs": [],
   "source": [
    "teamsData['CHC'].info()"
   ]
  },
  {
   "cell_type": "code",
   "execution_count": null,
   "id": "fd0ea166",
   "metadata": {},
   "outputs": [],
   "source": [
    "# descriptive statistics for numerical attributes\n",
    "teamsData['CHC'].describe()"
   ]
  },
  {
   "cell_type": "code",
   "execution_count": null,
   "id": "9581c04b",
   "metadata": {},
   "outputs": [],
   "source": [
    " newDataDF['CHC'].to_csv('newData.csv')"
   ]
  },
  {
   "cell_type": "markdown",
   "id": "668b6a07",
   "metadata": {},
   "source": [
    "## Combine All Teams' Data For Training"
   ]
  },
  {
   "cell_type": "code",
   "execution_count": null,
   "id": "6658e198",
   "metadata": {},
   "outputs": [],
   "source": [
    "MLB_Data = pd.DataFrame()\n",
    "\n",
    "for team in teams:\n",
    "    MLB_Data = MLB_Data.append(finalDF[team])"
   ]
  },
  {
   "cell_type": "code",
   "execution_count": null,
   "id": "34f9e20b",
   "metadata": {},
   "outputs": [],
   "source": [
    "MLB_Data['W/L'] = MLB_Data['W/L'].map({'W' : 'W',\n",
    "                                       'L' : 'L',\n",
    "                                       'L-wo' : 'L',\n",
    "                                       'W-wo' : 'W'})"
   ]
  },
  {
   "cell_type": "code",
   "execution_count": null,
   "id": "ab151b05",
   "metadata": {},
   "outputs": [],
   "source": [
    "MLB_Data['W/L'].value_counts()"
   ]
  },
  {
   "cell_type": "code",
   "execution_count": null,
   "id": "576ad551",
   "metadata": {},
   "outputs": [],
   "source": [
    "#MLB_Data.to_csv('TrainData.csv')"
   ]
  },
  {
   "cell_type": "markdown",
   "id": "e5859c0c",
   "metadata": {},
   "source": [
    "# Machine Learning"
   ]
  },
  {
   "cell_type": "code",
   "execution_count": null,
   "id": "c88cb297",
   "metadata": {},
   "outputs": [],
   "source": [
    "from sklearn.ensemble import RandomForestRegressor\n",
    "from sklearn.model_selection import train_test_split\n",
    "from sklearn.tree import DecisionTreeClassifier\n",
    "from sklearn import svm\n",
    "from sklearn.pipeline import Pipeline\n",
    "from sklearn.preprocessing import StandardScaler\n",
    "from sklearn.impute import SimpleImputer\n",
    "\n",
    "train_set, test_set = train_test_split(MLB_Data, test_size = 0.2, random_state = 42)"
   ]
  },
  {
   "cell_type": "code",
   "execution_count": null,
   "id": "aa60820b",
   "metadata": {},
   "outputs": [],
   "source": [
    "home_features = ['BA', '10D_BA_MA', '10D_SLG_MA', '10D_ERA_MA', '10D_WHIP_MA', 'cLI', '10D_SO_MA_batting', '10D_SO_MA_pitching',\n",
    "                 '15D_RBI_MA', '7D_HR_MA', '10D_BB_MA', 'ERA', '7D_Pit/In_MA',\n",
    "                 'W-L%_Starting_Pitcher', 'WHIP_Starting_Pitcher', 'SO/W_Starting_Pitcher', 'SO9_Starting_Pitcher', 'ERA_Starting_Pitcher',\n",
    "                 'W_Starting_Pitcher', 'HR_Starting_Pitcher', 'FIP_Starting_Pitcher']\n",
    "\n",
    "opponent_features = ['10D_BA_MA_Opponent', '10D_SLG_MA_Opponent', '10D_ERA_MA_Opponent', '10D_WHIP_MA_Opponent', 'BA_Opponent', 'cLI_Opponent',\n",
    "                     '10D_SO_MA_batting_Opponent', '10D_SO_MA_pitching_Opponent', '15D_RBI_MA_Opponent', '7D_HR_MA_Opponent', '10D_BB_MA_Opponent',\n",
    "                     'ERA_Opponent', '7D_Pit/In_MA_Opponent', \n",
    "                     'W-L%_Starting_Pitcher_Opponent', 'WHIP_Starting_Pitcher_Opponent', 'SO/W_Starting_Pitcher_Opponent', 'SO9_Starting_Pitcher_Opponent', 'ERA_Starting_Pitcher_Opponent',\n",
    "                     'W_Starting_Pitcher_Opponent', 'HR_Starting_Pitcher_Opponent', 'FIP_Starting_Pitcher_Opponent']\n",
    "\n",
    "\n",
    "all_features = home_features + opponent_features\n",
    "\n",
    "\n",
    "## Create Pipeline for Standardizing Data\n",
    "num_pipeline = Pipeline([\n",
    "    ('imputer', SimpleImputer(strategy = 'median')),\n",
    "    ('std_scaler', StandardScaler())\n",
    "])\n",
    "\n",
    "# fit transformation to training data and then transform TestData\n",
    "TrainingData = num_pipeline.fit_transform(MLB_Data[all_features])\n",
    "TestData = num_pipeline.transform(test_set[all_features])\n",
    "\n",
    "# Define the Model type\n",
    "#forest_reg = RandomForestRegressor()\n",
    "#DT= DecisionTreeClassifier()\n",
    "model = svm.SVC(probability = True)\n",
    "\n",
    "# prepare data and labels\n",
    "win_loss_labels = MLB_Data['W/L']\n",
    "\n",
    "\n",
    "# fit model to data\n",
    "model.fit(TrainingData, win_loss_labels)\n",
    "\n",
    "# calculate confidence in predictions\n",
    "class_probabilities = model.predict_proba(TestData)\n",
    "\n",
    "# determine Classification\n",
    "pred= model.predict(TestData)\n",
    "\n",
    "print(class_probabilities)"
   ]
  },
  {
   "cell_type": "code",
   "execution_count": null,
   "id": "6d0ebe3a",
   "metadata": {},
   "outputs": [],
   "source": [
    "test_set['W/L']"
   ]
  },
  {
   "cell_type": "code",
   "execution_count": null,
   "id": "c8a4b2c6",
   "metadata": {},
   "outputs": [],
   "source": [
    "pred"
   ]
  },
  {
   "cell_type": "markdown",
   "id": "17fe5940",
   "metadata": {},
   "source": [
    "## Predicting Todays Games"
   ]
  },
  {
   "cell_type": "code",
   "execution_count": null,
   "id": "210fa019",
   "metadata": {},
   "outputs": [],
   "source": [
    "import urllib.request \n",
    "from bs4 import BeautifulSoup\n",
    "import re\n",
    "\n",
    "todays_games_url = 'https://www.baseball-reference.com/leagues/MLB-schedule.shtml#today'\n",
    "team_list = ['Arizona D\\'Backs', 'Atlanta Braves', 'Baltimore Orioles', 'Boston Red Sox', 'Chicago White Sox', 'Chicago Cubs',\n",
    "             'Cincinnati Reds', 'Cleveland Indians', 'Colorado Rockies', 'Detroit Tigers', 'Houston Astros', 'Kansas City Royals',\n",
    "             'Los Angeles Angels', 'Los Angeles Dodgers', 'Miami Marlins', 'Milwaukee Brewers', 'Minnesota Twins', 'New York Yankees',\n",
    "             'New York Mets', 'Oakland Athletics', 'Philadelphia Phillies','Pittsburgh Pirates', 'San Diego Padres', 'San Francisco Giants', \n",
    "             'Seattle Mariners', 'St. Louis Cardinals', 'Tampa Bay Rays', 'Texas Rangers', 'Toronto Blue Jays', 'Washington Nationals']\n",
    "\n",
    "\n",
    "# opening the url for reading\n",
    "html = urllib.request.urlopen(todays_games_url)\n",
    "\n",
    "# parsing the html file\n",
    "soup = BeautifulSoup(html, 'html.parser')\n",
    "\n",
    "todays_games_DF = pd.DataFrame(columns = ['Away Team', 'Home Team'])\n",
    "\n",
    "target = soup.find('h3', text = 'Today\\'s Games')\n",
    "for sib in target.find_next_siblings(['p']):\n",
    "    if sib.name==\"h3\":\n",
    "        break\n",
    "    else:\n",
    "        #todays_games_DF = todays_games_DF.append(sib.text)\n",
    "        matchup = re.findall(r\"(?=(\"+'|'.join(team_list)+r\"))\", sib.text)\n",
    "        print(matchup)\n",
    "        matchup_series = pd.Series(matchup, index = todays_games_DF.columns)\n",
    "        todays_games_DF = todays_games_DF.append(matchup_series, ignore_index = True)\n",
    "\n",
    "# for para in htmlParse.find_all(\"p\"):\n",
    "#     print(para.get_text())\n",
    "\n",
    "#df = pd.read_html(todays_games_url)\n",
    "\n",
    "# for index, team in enumerate(teams):\n",
    "#     ## Collect schedule information for each team\n",
    "#     baseball_schedule_url = 'https://www.baseball-reference.com/teams/' + team + '/2021-schedule-scores.shtml'\n",
    "#     dfs = pd.read_html(baseball_schedule_url)\n",
    "#     scheduleDF = pd.concat(dfs)"
   ]
  },
  {
   "cell_type": "code",
   "execution_count": null,
   "id": "e54083c4",
   "metadata": {},
   "outputs": [],
   "source": [
    "abreviation_map = {'Arizona D\\'Backs' : 'ARI', 'Atlanta Braves': 'ATL', 'Baltimore Orioles': 'BAL', 'Boston Red Sox': 'BOS', 'Chicago White Sox': 'CHW', 'Chicago Cubs': 'CHC',\n",
    "             'Cincinnati Reds': 'CIN', 'Cleveland Indians': 'CLE', 'Colorado Rockies': 'COL', 'Detroit Tigers': 'DET', 'Houston Astros': 'HOU', 'Kansas City Royals': 'KCR',\n",
    "             'Los Angeles Angels': 'LAA', 'Los Angeles Dodgers':'LAD', 'Miami Marlins': 'MIA', 'Milwaukee Brewers': 'MIL', 'Minnesota Twins': 'MIN', 'New York Yankees': 'NYY',\n",
    "             'New York Mets': 'NYM', 'Oakland Athletics': 'OAK', 'Philadelphia Phillies': 'PHI','Pittsburgh Pirates': 'PIT', 'San Diego Padres': 'SDP', 'San Francisco Giants': 'SFG', \n",
    "             'Seattle Mariners': 'SEA', 'St. Louis Cardinals': 'STL', 'Tampa Bay Rays': 'TBR', 'Texas Rangers': 'TEX', 'Toronto Blue Jays': 'TOR', 'Washington Nationals': 'WSN'}\n",
    "\n",
    "# Replace full names with abreviations\n",
    "todays_games_DF.replace(abreviation_map, inplace = True)\n"
   ]
  },
  {
   "cell_type": "code",
   "execution_count": null,
   "id": "1e1bc322",
   "metadata": {},
   "outputs": [],
   "source": [
    "matchupData = pd.DataFrame()\n",
    "\n",
    "# Add data for each matchup\n",
    "for index, teams in todays_games_DF.iterrows():\n",
    "    home_team = teams['Home Team']\n",
    "    away_team = teams['Away Team']\n",
    "    \n",
    "    home_data = finalDF[home_team].sort_values(by = 'Gm#').tail(1)[home_features]\n",
    "    home_data['Home Team'] = home_team\n",
    "    \n",
    "    away_data = finalDF[away_team].sort_values(by = 'Gm#').tail(1)[home_features]\n",
    "    away_data = away_data.add_suffix('_Opponent')\n",
    "    away_data['Away Team'] = away_team\n",
    "    \n",
    "    print(home_data.columns)\n",
    "    print(away_data.columns)\n",
    "    matchupData = matchupData.append(pd.concat([home_data, away_data], axis = 1))\n",
    "    #print(matchupData)\n",
    "    "
   ]
  },
  {
   "cell_type": "code",
   "execution_count": null,
   "id": "3f4a5c49",
   "metadata": {
    "scrolled": true
   },
   "outputs": [],
   "source": [
    "matchupData\n",
    "#todays_games_DF\n",
    "#finalDF['LAD'].sort_values(by = 'Gm#').tail(1)[home_features]\n",
    "# finalDF['CHC'].sort_values(by = 'Gm#').tail(1)[home_features]\n",
    "# home_data\n",
    "# away_data"
   ]
  },
  {
   "cell_type": "code",
   "execution_count": null,
   "id": "3cbf4807",
   "metadata": {},
   "outputs": [],
   "source": [
    "# transform the matchup data\n",
    "newData = num_pipeline.transform(matchupData[all_features])\n",
    "\n",
    "\n",
    "# determine Classification\n",
    "pred = model.predict(newData)\n",
    "\n",
    "# calculate confidence in predictions\n",
    "class_probabilities = model.predict_proba(newData)\n",
    "\n",
    "matchupData['Predictions'] = pred.tolist()\n",
    "\n",
    "#matchupData[['Home Team Win Probability', 'Away Team Win Probability']] = class_probabilities.tolist()\n",
    "matchupData[['Away Team Win Probability','Home Team Win Probability',]] = class_probabilities.tolist()\n",
    "\n",
    "print(class_probabilities)"
   ]
  },
  {
   "cell_type": "code",
   "execution_count": null,
   "id": "4043d943",
   "metadata": {},
   "outputs": [],
   "source": [
    "matchupData[['Home Team', 'Away Team', 'Home Team Win Probability', 'Away Team Win Probability', 'Predictions']].sort_values(by = 'Home Team Win Probability', ascending = False)"
   ]
  },
  {
   "cell_type": "code",
   "execution_count": null,
   "id": "86d78084",
   "metadata": {},
   "outputs": [],
   "source": [
    "matchupData[matchupData['Home Team'] == 'BAL'][['BA', '10D_BA_MA', '10D_SLG_MA', 'BA_Opponent','W-L%_Starting_Pitcher', 'WHIP_Starting_Pitcher', 'SO/W_Starting_Pitcher', '10D_BA_MA_Opponent', '10D_SLG_MA_Opponent', 'W-L%_Starting_Pitcher_Opponent', 'WHIP_Starting_Pitcher_Opponent', 'SO/W_Starting_Pitcher_Opponent']]"
   ]
  },
  {
   "cell_type": "code",
   "execution_count": null,
   "id": "470143a9",
   "metadata": {},
   "outputs": [],
   "source": [
    "teamsData[team]['7D_Pit/In_MA']"
   ]
  },
  {
   "cell_type": "code",
   "execution_count": null,
   "id": "61610939",
   "metadata": {},
   "outputs": [],
   "source": [
    "finalDF['LAD'].tail()"
   ]
  },
  {
   "cell_type": "code",
   "execution_count": null,
   "id": "6f669ae3",
   "metadata": {},
   "outputs": [],
   "source": [
    "MLB_Data[['10D_WHIP_MA', 'BA', '10D_ERA_MA_Opponent', '10D_WHIP_MA_Opponent']]"
   ]
  },
  {
   "cell_type": "code",
   "execution_count": null,
   "id": "6c03d42b",
   "metadata": {},
   "outputs": [],
   "source": [
    "a ='asdf'\n",
    "a[:1]"
   ]
  },
  {
   "cell_type": "code",
   "execution_count": null,
   "id": "4ee26a18",
   "metadata": {},
   "outputs": [],
   "source": [
    "finalDF['BAL'][['ERA_Starting_Pitcher','ERA_Starting_Pitcher_Opponent' ,'Pitcher Last Name', 'Pitcher Last Name_Opponent','Gm#','BA', '10D_BA_MA', '10D_SLG_MA', 'BA_Opponent','W-L%_Starting_Pitcher', 'WHIP_Starting_Pitcher', 'SO/W_Starting_Pitcher', '10D_BA_MA_Opponent', '10D_SLG_MA_Opponent', 'W-L%_Starting_Pitcher_Opponent', 'WHIP_Starting_Pitcher_Opponent', 'SO/W_Starting_Pitcher_Opponent']].sort_values(by = 'Gm#')"
   ]
  },
  {
   "cell_type": "code",
   "execution_count": null,
   "id": "ee79a596",
   "metadata": {},
   "outputs": [],
   "source": [
    "print(len(finalDF))"
   ]
  },
  {
   "cell_type": "code",
   "execution_count": 11,
   "id": "e961dbfa",
   "metadata": {},
   "outputs": [
    {
     "ename": "NameError",
     "evalue": "name 'teamsData' is not defined",
     "output_type": "error",
     "traceback": [
      "\u001b[1;31m---------------------------------------------------------------------------\u001b[0m",
      "\u001b[1;31mNameError\u001b[0m                                 Traceback (most recent call last)",
      "\u001b[1;32m<ipython-input-11-f9e3c1916cd0>\u001b[0m in \u001b[0;36m<module>\u001b[1;34m\u001b[0m\n\u001b[1;32m----> 1\u001b[1;33m \u001b[0mteamsData\u001b[0m\u001b[1;33m[\u001b[0m\u001b[1;34m'2020'\u001b[0m\u001b[1;33m]\u001b[0m\u001b[1;33m[\u001b[0m\u001b[1;34m'CHC'\u001b[0m\u001b[1;33m]\u001b[0m\u001b[1;33m\u001b[0m\u001b[1;33m\u001b[0m\u001b[0m\n\u001b[0m",
      "\u001b[1;31mNameError\u001b[0m: name 'teamsData' is not defined"
     ]
    }
   ],
   "source": [
    "teamsData['2020']['CHC']"
   ]
  },
  {
   "cell_type": "code",
   "execution_count": null,
   "id": "1a583278",
   "metadata": {},
   "outputs": [],
   "source": []
  }
 ],
 "metadata": {
  "kernelspec": {
   "display_name": "Python 3",
   "language": "python",
   "name": "python3"
  },
  "language_info": {
   "codemirror_mode": {
    "name": "ipython",
    "version": 3
   },
   "file_extension": ".py",
   "mimetype": "text/x-python",
   "name": "python",
   "nbconvert_exporter": "python",
   "pygments_lexer": "ipython3",
   "version": "3.9.5"
  }
 },
 "nbformat": 4,
 "nbformat_minor": 5
}
